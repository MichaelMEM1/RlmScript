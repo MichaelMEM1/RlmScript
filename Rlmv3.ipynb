{
 "cells": [
  {
   "cell_type": "markdown",
   "id": "9b5770ce-4653-48ee-849f-ae9110e9b381",
   "metadata": {},
   "source": [
    "# Linear Modeling in R Version 3 "
   ]
  },
  {
   "cell_type": "markdown",
   "id": "a750cd48-6e36-4e94-bdd6-dd0462e65299",
   "metadata": {},
   "source": [
    "## BSGP 7030 Summer 2024"
   ]
  },
  {
   "cell_type": "markdown",
   "id": "9317ca8c-8e37-490f-a900-5fb625412640",
   "metadata": {},
   "source": [
    "### Checking if the correct number of arguments are provided"
   ]
  },
  {
   "cell_type": "code",
   "execution_count": 1,
   "id": "1cb761fb-c5df-4625-93eb-5bb0fcdc6776",
   "metadata": {},
   "outputs": [],
   "source": [
    "args <- commandArgs(TRUE)\n",
    "if (length(args) == 0) {\n",
    "  stop(\"No CSV file provided. Please specify a CSV file as the first argument.\")\n",
    "}"
   ]
  },
  {
   "cell_type": "markdown",
   "id": "8090c378-fa7e-4cb6-b950-30a18459844d",
   "metadata": {},
   "source": [
    "### Read the CSV file "
   ]
  },
  {
   "cell_type": "code",
   "execution_count": null,
   "id": "31c04f86-4d25-4c5e-8f62-18e1cfffb6b2",
   "metadata": {},
   "outputs": [],
   "source": [
    "file_path <- args[1]"
   ]
  },
  {
   "cell_type": "markdown",
   "id": "ca3f7168-0af1-4646-8db8-589880edd59d",
   "metadata": {},
   "source": [
    "### Check if the file exists"
   ]
  },
  {
   "cell_type": "code",
   "execution_count": 2,
   "id": "c641d10c-38c0-4746-b570-343699497555",
   "metadata": {},
   "outputs": [
    {
     "ename": "ERROR",
     "evalue": "Error in file.exists(file_path): object 'file_path' not found\n",
     "output_type": "error",
     "traceback": [
      "Error in file.exists(file_path): object 'file_path' not found\nTraceback:\n",
      "1. file.exists(file_path)"
     ]
    }
   ],
   "source": [
    "if (!file.exists(file_path)) {\n",
    "  stop(paste(\"File\", file_path, \"not found. Please check the file path.\"))\n",
    "}"
   ]
  },
  {
   "cell_type": "markdown",
   "id": "db51b5b9-3215-4455-a5b5-6960f1c704ac",
   "metadata": {},
   "source": [
    "### Extract file name without extension"
   ]
  },
  {
   "cell_type": "code",
   "execution_count": null,
   "id": "c97d05d5-d4f6-4d2e-9351-a0c883ffb792",
   "metadata": {},
   "outputs": [],
   "source": [
    "file_name <- tools::file_path_sans_ext(basename(file_path))"
   ]
  },
  {
   "cell_type": "markdown",
   "id": "3714b99c-9c5e-4653-8a10-375ad0f2c243",
   "metadata": {},
   "source": [
    "### Attempting to plot the data, create the linear model, plot the best fit, plotting the linear regression model"
   ]
  },
  {
   "cell_type": "code",
   "execution_count": null,
   "id": "f83a40e2-1b80-4d0a-80c1-e7897550817e",
   "metadata": {},
   "outputs": [],
   "source": [
    "tryCatch({"
   ]
  },
  {
   "cell_type": "markdown",
   "id": "b3484ed3-8f65-4bbb-8bfa-4128272151fa",
   "metadata": {},
   "source": [
    "### Reading the file and giving it the variable name df"
   ]
  },
  {
   "cell_type": "code",
   "execution_count": null,
   "id": "61a42bb3-c0ac-4950-9a6a-defb7db6c633",
   "metadata": {},
   "outputs": [],
   "source": [
    "    df <- read.csv(file_path, stringsAsFactors = FALSE)"
   ]
  },
  {
   "cell_type": "markdown",
   "id": "6bbbc49d-56dd-40d3-a81f-bc131cf89466",
   "metadata": {},
   "source": [
    "### Plotting the Data from the CSV and creating a png of it"
   ]
  },
  {
   "cell_type": "code",
   "execution_count": null,
   "id": "6204a6e0-1485-415b-aff7-db86e8cfd82b",
   "metadata": {},
   "outputs": [],
   "source": [
    "    png(file = \"plot_data_from_csv.png\", width = 800, height = 600)\n",
    "     plot(df$x,df$y, xlab = 'X', ylab = 'Y') \n",
    "     title(paste0('Data from (', file_name, ')'))\n",
    "     legend('topleft',                          # location of the legend\n",
    "        legend=c('Points'),                 # labels for the lines\n",
    "        col=c('black'),                 # colors matching the lines\n",
    "        pch = 1,                        # Adding a point to the legend\n",
    "        title='Legend',                        # legend title\n",
    "        bty='n')                              # no box around the legend\n",
    "    dev.off()"
   ]
  },
  {
   "cell_type": "markdown",
   "id": "12090f90-bb8d-4181-ae0f-0704b5742051",
   "metadata": {},
   "source": [
    "### Creating the Linear Model"
   ]
  },
  {
   "cell_type": "code",
   "execution_count": 7,
   "id": "697e1c4e-6fcf-46e3-bdb0-9d3d62963043",
   "metadata": {},
   "outputs": [
    {
     "ename": "ERROR",
     "evalue": "Error in model.frame.default(formula = y ~ x, data = df, drop.unused.levels = TRUE): 'data' must be a data.frame, environment, or list\n",
     "output_type": "error",
     "traceback": [
      "Error in model.frame.default(formula = y ~ x, data = df, drop.unused.levels = TRUE): 'data' must be a data.frame, environment, or list\nTraceback:\n",
      "1. lm(y ~ x, data = df)",
      "2. eval(mf, parent.frame())",
      "3. eval(mf, parent.frame())",
      "4. stats::model.frame(formula = y ~ x, data = df, drop.unused.levels = TRUE)",
      "5. model.frame.default(formula = y ~ x, data = df, drop.unused.levels = TRUE)",
      "6. stop(\"'data' must be a data.frame, environment, or list\")"
     ]
    }
   ],
   "source": [
    "    model <- lm(y~x, data = df )\n",
    "    summary_stats <- summary (model)\n",
    "    r_squared <- summary_stats$r.squared\n",
    "    y_predict <- predict(model, df)"
   ]
  },
  {
   "cell_type": "markdown",
   "id": "9dccea23-3fa4-476d-b05b-ccd96934579b",
   "metadata": {},
   "source": [
    "### Plotting the Linear Regression Model for the CSV"
   ]
  },
  {
   "cell_type": "code",
   "execution_count": 4,
   "id": "6cf4a0ea-0392-48a3-b7aa-f3ce68bd4c41",
   "metadata": {},
   "outputs": [
    {
     "ename": "ERROR",
     "evalue": "Error in df$x: object of type 'closure' is not subsettable\n",
     "output_type": "error",
     "traceback": [
      "Error in df$x: object of type 'closure' is not subsettable\nTraceback:\n",
      "1. plot(df$x, df$y, xlab = \"X\", ylab = \"Y\", col = \"black\")"
     ]
    }
   ],
   "source": [
    "  png(file = \"plot_Linear_RegressionR.png\", width = 800, height = 600)\n",
    "    plot(df$x, df$y, xlab = 'X', ylab = 'Y', col = 'black') \n",
    "    lines(df$x, y_predict, col = 'red')\n",
    "    title('Linear regression model R')\n",
    "    legend('topleft',                          # location of the legend\n",
    "        legend = c('Points', 'Fit'),                 # labels for the lines\n",
    "        col = c('black', 'red'),                 # colors matching the lines\n",
    "        lwd = c(2, 2),                          # line widths\n",
    "        title = 'Legend',                        # legend title\n",
    "        bty = 'n')                              # no box around the legend\n",
    "      text(12, 12, sprintf(\"R^2 = % f\", r_squared), pos = 3) # adding the r square value\n",
    "    dev.off()\n",
    "\n",
    "    graphics.off()                         # turning off graphic devices\n",
    "  "
   ]
  },
  {
   "cell_type": "markdown",
   "id": "4c008bf5-cc03-4e5a-9653-84f3cbe0743a",
   "metadata": {},
   "source": [
    "### Closing the TryCatch"
   ]
  },
  {
   "cell_type": "code",
   "execution_count": 5,
   "id": "6dcd48c8-cc7b-4959-8e70-c7dbe9170dbb",
   "metadata": {},
   "outputs": [
    {
     "ename": "ERROR",
     "evalue": "Error in parse(text = x, srcfile = src): <text>:1:1: unexpected '}'\n1: }\n    ^\n",
     "output_type": "error",
     "traceback": [
      "Error in parse(text = x, srcfile = src): <text>:1:1: unexpected '}'\n1: }\n    ^\nTraceback:\n"
     ]
    }
   ],
   "source": [
    "}, error = function(e) {"
   ]
  },
  {
   "cell_type": "markdown",
   "id": "9c393a7a-b754-43b8-8bca-c3c4fb375829",
   "metadata": {},
   "source": [
    "### Handle any errors that occur during reading or processing"
   ]
  },
  {
   "cell_type": "code",
   "execution_count": 6,
   "id": "ca2780d3-32e5-425b-8a5b-52d1166bf460",
   "metadata": {},
   "outputs": [
    {
     "ename": "ERROR",
     "evalue": "Error in parse(text = x, srcfile = src): <text>:2:1: unexpected '}'\n1:   stop(\"Error reading or processing the CSV file:\", conditionMessage(e))\n2: }\n   ^\n",
     "output_type": "error",
     "traceback": [
      "Error in parse(text = x, srcfile = src): <text>:2:1: unexpected '}'\n1:   stop(\"Error reading or processing the CSV file:\", conditionMessage(e))\n2: }\n   ^\nTraceback:\n"
     ]
    }
   ],
   "source": [
    "  stop(\"Error reading or processing the CSV file:\", conditionMessage(e))\n",
    "})\n"
   ]
  }
 ],
 "metadata": {
  "kernelspec": {
   "display_name": "R",
   "language": "R",
   "name": "ir"
  },
  "language_info": {
   "codemirror_mode": "r",
   "file_extension": ".r",
   "mimetype": "text/x-r-source",
   "name": "R",
   "pygments_lexer": "r",
   "version": "4.0.5"
  }
 },
 "nbformat": 4,
 "nbformat_minor": 5
}
